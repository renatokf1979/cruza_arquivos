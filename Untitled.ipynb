{
 "cells": [
  {
   "cell_type": "code",
   "execution_count": 8,
   "id": "8b115107",
   "metadata": {},
   "outputs": [
    {
     "name": "stdout",
     "output_type": "stream",
     "text": [
      "Digite o nome do arquivo 1:ksankd\n",
      "Digite o nome do arquivo 2:kjdkjsa\n",
      "<class 'pandas.core.frame.DataFrame'>\n",
      "RangeIndex: 54 entries, 0 to 53\n",
      "Data columns (total 9 columns):\n",
      " #   Column               Non-Null Count  Dtype  \n",
      "---  ------               --------------  -----  \n",
      " 0   Placa                54 non-null     object \n",
      " 1   MarcaModelo          53 non-null     object \n",
      " 2   AnoModelo            53 non-null     float64\n",
      " 3   Cor                  53 non-null     object \n",
      " 4   MunicioEmplacamento  53 non-null     object \n",
      " 5   UfEmplacamento       53 non-null     object \n",
      " 6   DataHoraPassagem     54 non-null     object \n",
      " 7   Local                54 non-null     object \n",
      " 8   Situacao             54 non-null     object \n",
      "dtypes: float64(1), object(8)\n",
      "memory usage: 3.9+ KB\n"
     ]
    },
    {
     "data": {
      "text/plain": [
       "None"
      ]
     },
     "metadata": {},
     "output_type": "display_data"
    },
    {
     "name": "stdout",
     "output_type": "stream",
     "text": [
      "<class 'pandas.core.frame.DataFrame'>\n",
      "RangeIndex: 444 entries, 0 to 443\n",
      "Data columns (total 9 columns):\n",
      " #   Column               Non-Null Count  Dtype  \n",
      "---  ------               --------------  -----  \n",
      " 0   Placa                444 non-null    object \n",
      " 1   MarcaModelo          434 non-null    object \n",
      " 2   AnoModelo            434 non-null    float64\n",
      " 3   Cor                  434 non-null    object \n",
      " 4   MunicioEmplacamento  434 non-null    object \n",
      " 5   UfEmplacamento       434 non-null    object \n",
      " 6   DataHoraPassagem     444 non-null    object \n",
      " 7   Local                444 non-null    object \n",
      " 8   Situacao             444 non-null    object \n",
      "dtypes: float64(1), object(8)\n",
      "memory usage: 31.3+ KB\n"
     ]
    },
    {
     "data": {
      "text/plain": [
       "None"
      ]
     },
     "metadata": {},
     "output_type": "display_data"
    },
    {
     "name": "stdout",
     "output_type": "stream",
     "text": [
      "Digite o nome do campo das tabelas a serem comparados:Placa\n"
     ]
    },
    {
     "data": {
      "text/html": [
       "<div>\n",
       "<style scoped>\n",
       "    .dataframe tbody tr th:only-of-type {\n",
       "        vertical-align: middle;\n",
       "    }\n",
       "\n",
       "    .dataframe tbody tr th {\n",
       "        vertical-align: top;\n",
       "    }\n",
       "\n",
       "    .dataframe thead th {\n",
       "        text-align: right;\n",
       "    }\n",
       "</style>\n",
       "<table border=\"1\" class=\"dataframe\">\n",
       "  <thead>\n",
       "    <tr style=\"text-align: right;\">\n",
       "      <th></th>\n",
       "      <th>Placa</th>\n",
       "      <th>MarcaModelo_x</th>\n",
       "      <th>AnoModelo_x</th>\n",
       "      <th>Cor_x</th>\n",
       "      <th>MunicioEmplacamento_x</th>\n",
       "      <th>UfEmplacamento_x</th>\n",
       "      <th>DataHoraPassagem_x</th>\n",
       "      <th>Local_x</th>\n",
       "      <th>Situacao_x</th>\n",
       "      <th>MarcaModelo_y</th>\n",
       "      <th>AnoModelo_y</th>\n",
       "      <th>Cor_y</th>\n",
       "      <th>MunicioEmplacamento_y</th>\n",
       "      <th>UfEmplacamento_y</th>\n",
       "      <th>DataHoraPassagem_y</th>\n",
       "      <th>Local_y</th>\n",
       "      <th>Situacao_y</th>\n",
       "    </tr>\n",
       "  </thead>\n",
       "  <tbody>\n",
       "    <tr>\n",
       "      <th>0</th>\n",
       "      <td>AJS2262</td>\n",
       "      <td>SR/RANDON SR FG</td>\n",
       "      <td>2001.0</td>\n",
       "      <td>LARANJA</td>\n",
       "      <td>CHAPECO</td>\n",
       "      <td>SC</td>\n",
       "      <td>2022-04-27T01:19:04</td>\n",
       "      <td>SC - CORDILHEIRA ALTA - BR-282 KM 534 + 60 - S...</td>\n",
       "      <td>SEM RESTRICAO</td>\n",
       "      <td>SR/RANDON SR FG</td>\n",
       "      <td>2001.0</td>\n",
       "      <td>LARANJA</td>\n",
       "      <td>CHAPECO</td>\n",
       "      <td>SC</td>\n",
       "      <td>2022-04-27T08:20:41</td>\n",
       "      <td>PR - ARAUCARIA - BR-476 KM 156 + 00 - SENT DEC...</td>\n",
       "      <td>SEM RESTRICAO</td>\n",
       "    </tr>\n",
       "  </tbody>\n",
       "</table>\n",
       "</div>"
      ],
      "text/plain": [
       "     Placa    MarcaModelo_x  AnoModelo_x    Cor_x MunicioEmplacamento_x  \\\n",
       "0  AJS2262  SR/RANDON SR FG       2001.0  LARANJA               CHAPECO   \n",
       "\n",
       "  UfEmplacamento_x   DataHoraPassagem_x  \\\n",
       "0               SC  2022-04-27T01:19:04   \n",
       "\n",
       "                                             Local_x     Situacao_x  \\\n",
       "0  SC - CORDILHEIRA ALTA - BR-282 KM 534 + 60 - S...  SEM RESTRICAO   \n",
       "\n",
       "     MarcaModelo_y  AnoModelo_y    Cor_y MunicioEmplacamento_y  \\\n",
       "0  SR/RANDON SR FG       2001.0  LARANJA               CHAPECO   \n",
       "\n",
       "  UfEmplacamento_y   DataHoraPassagem_y  \\\n",
       "0               SC  2022-04-27T08:20:41   \n",
       "\n",
       "                                             Local_y     Situacao_y  \n",
       "0  PR - ARAUCARIA - BR-476 KM 156 + 00 - SENT DEC...  SEM RESTRICAO  "
      ]
     },
     "metadata": {},
     "output_type": "display_data"
    }
   ],
   "source": [
    "import pandas as pd\n",
    "pd.set_option('display.max_columns', None)\n",
    "tabela = input(\"Digite o nome do arquivo 1:\")\n",
    "tabela2 = input(\"Digite o nome do arquivo 2:\")\n",
    "tabela = pd.read_csv(\"veiculos_p1.csv\", encoding=\"latin1\", sep=\";\") \n",
    "tabela2 = pd.read_csv(\"veiculos.csv\", encoding=\"latin1\", sep=\";\")\n",
    "\n",
    "display(tabela.info())\n",
    "display(tabela2.info())\n",
    "\n",
    "campo = input(\"Digite o nome do campo das tabelas a serem comparados:\")\n",
    "#display(tabela2)\n",
    "#tabela3 = pd.read_csv(rif_comunicacoes, encoding=\"latin1\", sep=\";\")\n",
    "#tabela4 = tabela3[tabela3.Indexador=='3']\n",
    "tabela_full = pd.merge(tabela, tabela2, how = 'inner', on = 'Placa')\n",
    "tabela_full = pd.merge(tabela, tabela2, how = 'inner', on = campo)\n",
    "\n",
    "display(tabela_full)\n",
    "\n",
    "\n",
    "#tabela_full.drop(['agenciaEnvolvido', 'contaEnvolvido', 'DataAberturaConta','NomeAgencia', 'NumeroAgencia', 'Data_do_Recebimento','DataAtualizacaoConta','CampoD','CampoE','CodigoSegmento',  'NumeroOcorrenciaBC','cpfCnpjComunicante',  'idComunicacao',  'intServidorCitado', 'bitPepCitado', 'bitPessoaObrigadaCitado'], axis=1, inplace=True)\n",
    "#nome = input(\"Digite o nome: \")\n",
    "#cpf = tabela_full['cpfCnpjEnvolvido']\n",
    "#tabela_filtro = tabela_full[tabela_full.nomeEnvolvido==nome.upper()]\n",
    "#pd.set_option('display.max_colwidth', None)\n",
    "#display(tabela_filtro)\n",
    "#display(tabela_filtro['informacoesAdicionais'])"
   ]
  }
 ],
 "metadata": {
  "kernelspec": {
   "display_name": "Python 3 (ipykernel)",
   "language": "python",
   "name": "python3"
  },
  "language_info": {
   "codemirror_mode": {
    "name": "ipython",
    "version": 3
   },
   "file_extension": ".py",
   "mimetype": "text/x-python",
   "name": "python",
   "nbconvert_exporter": "python",
   "pygments_lexer": "ipython3",
   "version": "3.8.12"
  }
 },
 "nbformat": 4,
 "nbformat_minor": 5
}
